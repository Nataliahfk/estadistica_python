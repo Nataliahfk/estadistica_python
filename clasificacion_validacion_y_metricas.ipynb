{
  "nbformat": 4,
  "nbformat_minor": 0,
  "metadata": {
    "colab": {
      "provenance": [],
      "include_colab_link": true
    },
    "kernelspec": {
      "name": "python3",
      "display_name": "Python 3"
    },
    "language_info": {
      "name": "python"
    }
  },
  "cells": [
    {
      "cell_type": "markdown",
      "metadata": {
        "id": "view-in-github",
        "colab_type": "text"
      },
      "source": [
        "<a href=\"https://colab.research.google.com/github/Nataliahfk/estadistica_python/blob/main/clasificacion_validacion_y_metricas.ipynb\" target=\"_parent\"><img src=\"https://colab.research.google.com/assets/colab-badge.svg\" alt=\"Open In Colab\"/></a>"
      ]
    },
    {
      "cell_type": "markdown",
      "source": [
        "# <font color='dark'>**Clasificación: Validación de modelos y métricas de evaluación**</h1>"
      ],
      "metadata": {
        "id": "MCqTDybk4ShK"
      }
    },
    {
      "cell_type": "markdown",
      "source": [
        "### Proyecto\n",
        "\n",
        "Una empresa de financiamiento de automóviles está atravesando una situación complicada, con una alta demanda para una flota reducida de vehículos y un alto número de morosos, lo que está generando grandes pérdidas para la empresa.\n",
        "\n",
        "Nosotros fuimos contratados para buscar mejoras en la identificación de morosos. El análisis de los clientes actualmente se realiza de forma manual, cliente por cliente, lo que consume mucho tiempo y, aun así, la detección de morosos es muy imprecisa.\n",
        "\n",
        "Nuestra tarea es utilizar los datos proporcionados por la empresa para **clasificar** a los clientes en cumplidores y morosos."
      ],
      "metadata": {
        "id": "WscU3KG7a9No"
      }
    },
    {
      "cell_type": "markdown",
      "source": [
        "## <font color='dark'>Clasificando los datos</h1>"
      ],
      "metadata": {
        "id": "WgS8iF51Csrn"
      }
    },
    {
      "cell_type": "markdown",
      "source": [
        "### Creando un modelo inicial"
      ],
      "metadata": {
        "id": "6lExmBuKn-xe"
      }
    },
    {
      "cell_type": "code",
      "source": [
        "import pandas as pd"
      ],
      "metadata": {
        "id": "ANJDC3LqP43q"
      },
      "execution_count": 103,
      "outputs": []
    },
    {
      "cell_type": "code",
      "source": [
        "datos = pd.read_csv('/content/prestacar.csv')"
      ],
      "metadata": {
        "id": "UPddns6dP4kt"
      },
      "execution_count": 104,
      "outputs": []
    },
    {
      "cell_type": "code",
      "source": [
        "datos"
      ],
      "metadata": {
        "id": "UVIX6QLpP4iC",
        "colab": {
          "base_uri": "https://localhost:8080/",
          "height": 443
        },
        "outputId": "26810770-497e-4889-a11f-bdffb334a223"
      },
      "execution_count": 105,
      "outputs": [
        {
          "output_type": "execute_result",
          "data": {
            "text/plain": [
              "       ingresos_cliente  anualidad_prestamo  años_casa_propia  telefono_trab  \\\n",
              "0          12600.000000         3569.400000         12.157324              1   \n",
              "1           9000.000000         2722.188351          7.000000              0   \n",
              "2          15750.000000         4477.500000         12.000000              0   \n",
              "3           9000.000000         1309.050000         12.157324              0   \n",
              "4           7650.000000         1125.000000         12.157324              0   \n",
              "...                 ...                 ...               ...            ...   \n",
              "54020      16855.246324          675.000000         12.157324              1   \n",
              "54021      11250.000000          675.000000         14.000000              0   \n",
              "54022      13500.000000          900.000000         64.000000              0   \n",
              "54023      11250.000000         2371.500000         12.157324              0   \n",
              "54024      21060.000000         2459.250000         12.157324              0   \n",
              "\n",
              "       evaluacion_ciudad   score_1   score_2   score_3  score_social  \\\n",
              "0                    2.0  0.057153  0.527227  0.513171      0.117428   \n",
              "1                    2.0  0.657661  0.285898  0.614414      0.222700   \n",
              "2                    2.0  0.501213  0.695423  0.513171      0.117428   \n",
              "3                    3.0  0.501213  0.155973  0.513171      0.117428   \n",
              "4                    2.0  0.294328  0.152076  0.513171      0.117428   \n",
              "...                  ...       ...       ...       ...           ...   \n",
              "54020                2.0  0.501213  0.180635  0.513171      0.082500   \n",
              "54021                3.0  0.409620  0.606002  0.513171      0.117428   \n",
              "54022                2.0  0.162632  0.525412  0.513171      0.117428   \n",
              "54023                3.0  0.501213  0.664027  0.513171      0.117428   \n",
              "54024                2.0  0.339656  0.656468  0.513171      0.117428   \n",
              "\n",
              "       cambio_telefono  moroso  \n",
              "0          2545.000000       0  \n",
              "1           495.000000       0  \n",
              "2          1212.000000       0  \n",
              "3           515.000000       0  \n",
              "4           162.000000       0  \n",
              "...                ...     ...  \n",
              "54020         0.000000       1  \n",
              "54021       466.000000       1  \n",
              "54022       962.106056       1  \n",
              "54023       482.000000       1  \n",
              "54024         0.000000       1  \n",
              "\n",
              "[54025 rows x 11 columns]"
            ],
            "text/html": [
              "\n",
              "  <div id=\"df-92088fd8-ded2-48a0-9b9b-8aa12b8f9ceb\" class=\"colab-df-container\">\n",
              "    <div>\n",
              "<style scoped>\n",
              "    .dataframe tbody tr th:only-of-type {\n",
              "        vertical-align: middle;\n",
              "    }\n",
              "\n",
              "    .dataframe tbody tr th {\n",
              "        vertical-align: top;\n",
              "    }\n",
              "\n",
              "    .dataframe thead th {\n",
              "        text-align: right;\n",
              "    }\n",
              "</style>\n",
              "<table border=\"1\" class=\"dataframe\">\n",
              "  <thead>\n",
              "    <tr style=\"text-align: right;\">\n",
              "      <th></th>\n",
              "      <th>ingresos_cliente</th>\n",
              "      <th>anualidad_prestamo</th>\n",
              "      <th>años_casa_propia</th>\n",
              "      <th>telefono_trab</th>\n",
              "      <th>evaluacion_ciudad</th>\n",
              "      <th>score_1</th>\n",
              "      <th>score_2</th>\n",
              "      <th>score_3</th>\n",
              "      <th>score_social</th>\n",
              "      <th>cambio_telefono</th>\n",
              "      <th>moroso</th>\n",
              "    </tr>\n",
              "  </thead>\n",
              "  <tbody>\n",
              "    <tr>\n",
              "      <th>0</th>\n",
              "      <td>12600.000000</td>\n",
              "      <td>3569.400000</td>\n",
              "      <td>12.157324</td>\n",
              "      <td>1</td>\n",
              "      <td>2.0</td>\n",
              "      <td>0.057153</td>\n",
              "      <td>0.527227</td>\n",
              "      <td>0.513171</td>\n",
              "      <td>0.117428</td>\n",
              "      <td>2545.000000</td>\n",
              "      <td>0</td>\n",
              "    </tr>\n",
              "    <tr>\n",
              "      <th>1</th>\n",
              "      <td>9000.000000</td>\n",
              "      <td>2722.188351</td>\n",
              "      <td>7.000000</td>\n",
              "      <td>0</td>\n",
              "      <td>2.0</td>\n",
              "      <td>0.657661</td>\n",
              "      <td>0.285898</td>\n",
              "      <td>0.614414</td>\n",
              "      <td>0.222700</td>\n",
              "      <td>495.000000</td>\n",
              "      <td>0</td>\n",
              "    </tr>\n",
              "    <tr>\n",
              "      <th>2</th>\n",
              "      <td>15750.000000</td>\n",
              "      <td>4477.500000</td>\n",
              "      <td>12.000000</td>\n",
              "      <td>0</td>\n",
              "      <td>2.0</td>\n",
              "      <td>0.501213</td>\n",
              "      <td>0.695423</td>\n",
              "      <td>0.513171</td>\n",
              "      <td>0.117428</td>\n",
              "      <td>1212.000000</td>\n",
              "      <td>0</td>\n",
              "    </tr>\n",
              "    <tr>\n",
              "      <th>3</th>\n",
              "      <td>9000.000000</td>\n",
              "      <td>1309.050000</td>\n",
              "      <td>12.157324</td>\n",
              "      <td>0</td>\n",
              "      <td>3.0</td>\n",
              "      <td>0.501213</td>\n",
              "      <td>0.155973</td>\n",
              "      <td>0.513171</td>\n",
              "      <td>0.117428</td>\n",
              "      <td>515.000000</td>\n",
              "      <td>0</td>\n",
              "    </tr>\n",
              "    <tr>\n",
              "      <th>4</th>\n",
              "      <td>7650.000000</td>\n",
              "      <td>1125.000000</td>\n",
              "      <td>12.157324</td>\n",
              "      <td>0</td>\n",
              "      <td>2.0</td>\n",
              "      <td>0.294328</td>\n",
              "      <td>0.152076</td>\n",
              "      <td>0.513171</td>\n",
              "      <td>0.117428</td>\n",
              "      <td>162.000000</td>\n",
              "      <td>0</td>\n",
              "    </tr>\n",
              "    <tr>\n",
              "      <th>...</th>\n",
              "      <td>...</td>\n",
              "      <td>...</td>\n",
              "      <td>...</td>\n",
              "      <td>...</td>\n",
              "      <td>...</td>\n",
              "      <td>...</td>\n",
              "      <td>...</td>\n",
              "      <td>...</td>\n",
              "      <td>...</td>\n",
              "      <td>...</td>\n",
              "      <td>...</td>\n",
              "    </tr>\n",
              "    <tr>\n",
              "      <th>54020</th>\n",
              "      <td>16855.246324</td>\n",
              "      <td>675.000000</td>\n",
              "      <td>12.157324</td>\n",
              "      <td>1</td>\n",
              "      <td>2.0</td>\n",
              "      <td>0.501213</td>\n",
              "      <td>0.180635</td>\n",
              "      <td>0.513171</td>\n",
              "      <td>0.082500</td>\n",
              "      <td>0.000000</td>\n",
              "      <td>1</td>\n",
              "    </tr>\n",
              "    <tr>\n",
              "      <th>54021</th>\n",
              "      <td>11250.000000</td>\n",
              "      <td>675.000000</td>\n",
              "      <td>14.000000</td>\n",
              "      <td>0</td>\n",
              "      <td>3.0</td>\n",
              "      <td>0.409620</td>\n",
              "      <td>0.606002</td>\n",
              "      <td>0.513171</td>\n",
              "      <td>0.117428</td>\n",
              "      <td>466.000000</td>\n",
              "      <td>1</td>\n",
              "    </tr>\n",
              "    <tr>\n",
              "      <th>54022</th>\n",
              "      <td>13500.000000</td>\n",
              "      <td>900.000000</td>\n",
              "      <td>64.000000</td>\n",
              "      <td>0</td>\n",
              "      <td>2.0</td>\n",
              "      <td>0.162632</td>\n",
              "      <td>0.525412</td>\n",
              "      <td>0.513171</td>\n",
              "      <td>0.117428</td>\n",
              "      <td>962.106056</td>\n",
              "      <td>1</td>\n",
              "    </tr>\n",
              "    <tr>\n",
              "      <th>54023</th>\n",
              "      <td>11250.000000</td>\n",
              "      <td>2371.500000</td>\n",
              "      <td>12.157324</td>\n",
              "      <td>0</td>\n",
              "      <td>3.0</td>\n",
              "      <td>0.501213</td>\n",
              "      <td>0.664027</td>\n",
              "      <td>0.513171</td>\n",
              "      <td>0.117428</td>\n",
              "      <td>482.000000</td>\n",
              "      <td>1</td>\n",
              "    </tr>\n",
              "    <tr>\n",
              "      <th>54024</th>\n",
              "      <td>21060.000000</td>\n",
              "      <td>2459.250000</td>\n",
              "      <td>12.157324</td>\n",
              "      <td>0</td>\n",
              "      <td>2.0</td>\n",
              "      <td>0.339656</td>\n",
              "      <td>0.656468</td>\n",
              "      <td>0.513171</td>\n",
              "      <td>0.117428</td>\n",
              "      <td>0.000000</td>\n",
              "      <td>1</td>\n",
              "    </tr>\n",
              "  </tbody>\n",
              "</table>\n",
              "<p>54025 rows × 11 columns</p>\n",
              "</div>\n",
              "    <div class=\"colab-df-buttons\">\n",
              "\n",
              "  <div class=\"colab-df-container\">\n",
              "    <button class=\"colab-df-convert\" onclick=\"convertToInteractive('df-92088fd8-ded2-48a0-9b9b-8aa12b8f9ceb')\"\n",
              "            title=\"Convert this dataframe to an interactive table.\"\n",
              "            style=\"display:none;\">\n",
              "\n",
              "  <svg xmlns=\"http://www.w3.org/2000/svg\" height=\"24px\" viewBox=\"0 -960 960 960\">\n",
              "    <path d=\"M120-120v-720h720v720H120Zm60-500h600v-160H180v160Zm220 220h160v-160H400v160Zm0 220h160v-160H400v160ZM180-400h160v-160H180v160Zm440 0h160v-160H620v160ZM180-180h160v-160H180v160Zm440 0h160v-160H620v160Z\"/>\n",
              "  </svg>\n",
              "    </button>\n",
              "\n",
              "  <style>\n",
              "    .colab-df-container {\n",
              "      display:flex;\n",
              "      gap: 12px;\n",
              "    }\n",
              "\n",
              "    .colab-df-convert {\n",
              "      background-color: #E8F0FE;\n",
              "      border: none;\n",
              "      border-radius: 50%;\n",
              "      cursor: pointer;\n",
              "      display: none;\n",
              "      fill: #1967D2;\n",
              "      height: 32px;\n",
              "      padding: 0 0 0 0;\n",
              "      width: 32px;\n",
              "    }\n",
              "\n",
              "    .colab-df-convert:hover {\n",
              "      background-color: #E2EBFA;\n",
              "      box-shadow: 0px 1px 2px rgba(60, 64, 67, 0.3), 0px 1px 3px 1px rgba(60, 64, 67, 0.15);\n",
              "      fill: #174EA6;\n",
              "    }\n",
              "\n",
              "    .colab-df-buttons div {\n",
              "      margin-bottom: 4px;\n",
              "    }\n",
              "\n",
              "    [theme=dark] .colab-df-convert {\n",
              "      background-color: #3B4455;\n",
              "      fill: #D2E3FC;\n",
              "    }\n",
              "\n",
              "    [theme=dark] .colab-df-convert:hover {\n",
              "      background-color: #434B5C;\n",
              "      box-shadow: 0px 1px 3px 1px rgba(0, 0, 0, 0.15);\n",
              "      filter: drop-shadow(0px 1px 2px rgba(0, 0, 0, 0.3));\n",
              "      fill: #FFFFFF;\n",
              "    }\n",
              "  </style>\n",
              "\n",
              "    <script>\n",
              "      const buttonEl =\n",
              "        document.querySelector('#df-92088fd8-ded2-48a0-9b9b-8aa12b8f9ceb button.colab-df-convert');\n",
              "      buttonEl.style.display =\n",
              "        google.colab.kernel.accessAllowed ? 'block' : 'none';\n",
              "\n",
              "      async function convertToInteractive(key) {\n",
              "        const element = document.querySelector('#df-92088fd8-ded2-48a0-9b9b-8aa12b8f9ceb');\n",
              "        const dataTable =\n",
              "          await google.colab.kernel.invokeFunction('convertToInteractive',\n",
              "                                                    [key], {});\n",
              "        if (!dataTable) return;\n",
              "\n",
              "        const docLinkHtml = 'Like what you see? Visit the ' +\n",
              "          '<a target=\"_blank\" href=https://colab.research.google.com/notebooks/data_table.ipynb>data table notebook</a>'\n",
              "          + ' to learn more about interactive tables.';\n",
              "        element.innerHTML = '';\n",
              "        dataTable['output_type'] = 'display_data';\n",
              "        await google.colab.output.renderOutput(dataTable, element);\n",
              "        const docLink = document.createElement('div');\n",
              "        docLink.innerHTML = docLinkHtml;\n",
              "        element.appendChild(docLink);\n",
              "      }\n",
              "    </script>\n",
              "  </div>\n",
              "\n",
              "\n",
              "    <div id=\"df-70fd04bb-1ea4-48f7-920d-76af1f868888\">\n",
              "      <button class=\"colab-df-quickchart\" onclick=\"quickchart('df-70fd04bb-1ea4-48f7-920d-76af1f868888')\"\n",
              "                title=\"Suggest charts\"\n",
              "                style=\"display:none;\">\n",
              "\n",
              "<svg xmlns=\"http://www.w3.org/2000/svg\" height=\"24px\"viewBox=\"0 0 24 24\"\n",
              "     width=\"24px\">\n",
              "    <g>\n",
              "        <path d=\"M19 3H5c-1.1 0-2 .9-2 2v14c0 1.1.9 2 2 2h14c1.1 0 2-.9 2-2V5c0-1.1-.9-2-2-2zM9 17H7v-7h2v7zm4 0h-2V7h2v10zm4 0h-2v-4h2v4z\"/>\n",
              "    </g>\n",
              "</svg>\n",
              "      </button>\n",
              "\n",
              "<style>\n",
              "  .colab-df-quickchart {\n",
              "      --bg-color: #E8F0FE;\n",
              "      --fill-color: #1967D2;\n",
              "      --hover-bg-color: #E2EBFA;\n",
              "      --hover-fill-color: #174EA6;\n",
              "      --disabled-fill-color: #AAA;\n",
              "      --disabled-bg-color: #DDD;\n",
              "  }\n",
              "\n",
              "  [theme=dark] .colab-df-quickchart {\n",
              "      --bg-color: #3B4455;\n",
              "      --fill-color: #D2E3FC;\n",
              "      --hover-bg-color: #434B5C;\n",
              "      --hover-fill-color: #FFFFFF;\n",
              "      --disabled-bg-color: #3B4455;\n",
              "      --disabled-fill-color: #666;\n",
              "  }\n",
              "\n",
              "  .colab-df-quickchart {\n",
              "    background-color: var(--bg-color);\n",
              "    border: none;\n",
              "    border-radius: 50%;\n",
              "    cursor: pointer;\n",
              "    display: none;\n",
              "    fill: var(--fill-color);\n",
              "    height: 32px;\n",
              "    padding: 0;\n",
              "    width: 32px;\n",
              "  }\n",
              "\n",
              "  .colab-df-quickchart:hover {\n",
              "    background-color: var(--hover-bg-color);\n",
              "    box-shadow: 0 1px 2px rgba(60, 64, 67, 0.3), 0 1px 3px 1px rgba(60, 64, 67, 0.15);\n",
              "    fill: var(--button-hover-fill-color);\n",
              "  }\n",
              "\n",
              "  .colab-df-quickchart-complete:disabled,\n",
              "  .colab-df-quickchart-complete:disabled:hover {\n",
              "    background-color: var(--disabled-bg-color);\n",
              "    fill: var(--disabled-fill-color);\n",
              "    box-shadow: none;\n",
              "  }\n",
              "\n",
              "  .colab-df-spinner {\n",
              "    border: 2px solid var(--fill-color);\n",
              "    border-color: transparent;\n",
              "    border-bottom-color: var(--fill-color);\n",
              "    animation:\n",
              "      spin 1s steps(1) infinite;\n",
              "  }\n",
              "\n",
              "  @keyframes spin {\n",
              "    0% {\n",
              "      border-color: transparent;\n",
              "      border-bottom-color: var(--fill-color);\n",
              "      border-left-color: var(--fill-color);\n",
              "    }\n",
              "    20% {\n",
              "      border-color: transparent;\n",
              "      border-left-color: var(--fill-color);\n",
              "      border-top-color: var(--fill-color);\n",
              "    }\n",
              "    30% {\n",
              "      border-color: transparent;\n",
              "      border-left-color: var(--fill-color);\n",
              "      border-top-color: var(--fill-color);\n",
              "      border-right-color: var(--fill-color);\n",
              "    }\n",
              "    40% {\n",
              "      border-color: transparent;\n",
              "      border-right-color: var(--fill-color);\n",
              "      border-top-color: var(--fill-color);\n",
              "    }\n",
              "    60% {\n",
              "      border-color: transparent;\n",
              "      border-right-color: var(--fill-color);\n",
              "    }\n",
              "    80% {\n",
              "      border-color: transparent;\n",
              "      border-right-color: var(--fill-color);\n",
              "      border-bottom-color: var(--fill-color);\n",
              "    }\n",
              "    90% {\n",
              "      border-color: transparent;\n",
              "      border-bottom-color: var(--fill-color);\n",
              "    }\n",
              "  }\n",
              "</style>\n",
              "\n",
              "      <script>\n",
              "        async function quickchart(key) {\n",
              "          const quickchartButtonEl =\n",
              "            document.querySelector('#' + key + ' button');\n",
              "          quickchartButtonEl.disabled = true;  // To prevent multiple clicks.\n",
              "          quickchartButtonEl.classList.add('colab-df-spinner');\n",
              "          try {\n",
              "            const charts = await google.colab.kernel.invokeFunction(\n",
              "                'suggestCharts', [key], {});\n",
              "          } catch (error) {\n",
              "            console.error('Error during call to suggestCharts:', error);\n",
              "          }\n",
              "          quickchartButtonEl.classList.remove('colab-df-spinner');\n",
              "          quickchartButtonEl.classList.add('colab-df-quickchart-complete');\n",
              "        }\n",
              "        (() => {\n",
              "          let quickchartButtonEl =\n",
              "            document.querySelector('#df-70fd04bb-1ea4-48f7-920d-76af1f868888 button');\n",
              "          quickchartButtonEl.style.display =\n",
              "            google.colab.kernel.accessAllowed ? 'block' : 'none';\n",
              "        })();\n",
              "      </script>\n",
              "    </div>\n",
              "\n",
              "  <div id=\"id_0e5a28b9-fc9d-4077-9caf-274ca16592d5\">\n",
              "    <style>\n",
              "      .colab-df-generate {\n",
              "        background-color: #E8F0FE;\n",
              "        border: none;\n",
              "        border-radius: 50%;\n",
              "        cursor: pointer;\n",
              "        display: none;\n",
              "        fill: #1967D2;\n",
              "        height: 32px;\n",
              "        padding: 0 0 0 0;\n",
              "        width: 32px;\n",
              "      }\n",
              "\n",
              "      .colab-df-generate:hover {\n",
              "        background-color: #E2EBFA;\n",
              "        box-shadow: 0px 1px 2px rgba(60, 64, 67, 0.3), 0px 1px 3px 1px rgba(60, 64, 67, 0.15);\n",
              "        fill: #174EA6;\n",
              "      }\n",
              "\n",
              "      [theme=dark] .colab-df-generate {\n",
              "        background-color: #3B4455;\n",
              "        fill: #D2E3FC;\n",
              "      }\n",
              "\n",
              "      [theme=dark] .colab-df-generate:hover {\n",
              "        background-color: #434B5C;\n",
              "        box-shadow: 0px 1px 3px 1px rgba(0, 0, 0, 0.15);\n",
              "        filter: drop-shadow(0px 1px 2px rgba(0, 0, 0, 0.3));\n",
              "        fill: #FFFFFF;\n",
              "      }\n",
              "    </style>\n",
              "    <button class=\"colab-df-generate\" onclick=\"generateWithVariable('datos')\"\n",
              "            title=\"Generate code using this dataframe.\"\n",
              "            style=\"display:none;\">\n",
              "\n",
              "  <svg xmlns=\"http://www.w3.org/2000/svg\" height=\"24px\"viewBox=\"0 0 24 24\"\n",
              "       width=\"24px\">\n",
              "    <path d=\"M7,19H8.4L18.45,9,17,7.55,7,17.6ZM5,21V16.75L18.45,3.32a2,2,0,0,1,2.83,0l1.4,1.43a1.91,1.91,0,0,1,.58,1.4,1.91,1.91,0,0,1-.58,1.4L9.25,21ZM18.45,9,17,7.55Zm-12,3A5.31,5.31,0,0,0,4.9,8.1,5.31,5.31,0,0,0,1,6.5,5.31,5.31,0,0,0,4.9,4.9,5.31,5.31,0,0,0,6.5,1,5.31,5.31,0,0,0,8.1,4.9,5.31,5.31,0,0,0,12,6.5,5.46,5.46,0,0,0,6.5,12Z\"/>\n",
              "  </svg>\n",
              "    </button>\n",
              "    <script>\n",
              "      (() => {\n",
              "      const buttonEl =\n",
              "        document.querySelector('#id_0e5a28b9-fc9d-4077-9caf-274ca16592d5 button.colab-df-generate');\n",
              "      buttonEl.style.display =\n",
              "        google.colab.kernel.accessAllowed ? 'block' : 'none';\n",
              "\n",
              "      buttonEl.onclick = () => {\n",
              "        google.colab.notebook.generateWithVariable('datos');\n",
              "      }\n",
              "      })();\n",
              "    </script>\n",
              "  </div>\n",
              "\n",
              "    </div>\n",
              "  </div>\n"
            ],
            "application/vnd.google.colaboratory.intrinsic+json": {
              "type": "dataframe",
              "variable_name": "datos",
              "summary": "{\n  \"name\": \"datos\",\n  \"rows\": 54025,\n  \"fields\": [\n    {\n      \"column\": \"ingresos_cliente\",\n      \"properties\": {\n        \"dtype\": \"number\",\n        \"std\": 9658.762569130264,\n        \"min\": 2700.0,\n        \"max\": 450000.0,\n        \"num_unique_values\": 663,\n        \"samples\": [\n          11018.7,\n          38520.0,\n          17796.6\n        ],\n        \"semantic_type\": \"\",\n        \"description\": \"\"\n      }\n    },\n    {\n      \"column\": \"anualidad_prestamo\",\n      \"properties\": {\n        \"dtype\": \"number\",\n        \"std\": 1305.3647344874787,\n        \"min\": 218.7,\n        \"max\": 22500.0,\n        \"num_unique_values\": 8004,\n        \"samples\": [\n          5339.7,\n          5067.0,\n          5757.3\n        ],\n        \"semantic_type\": \"\",\n        \"description\": \"\"\n      }\n    },\n    {\n      \"column\": \"a\\u00f1os_casa_propia\",\n      \"properties\": {\n        \"dtype\": \"number\",\n        \"std\": 7.452120104984191,\n        \"min\": 0.0,\n        \"max\": 69.0,\n        \"num_unique_values\": 53,\n        \"samples\": [\n          11.0,\n          31.0,\n          32.0\n        ],\n        \"semantic_type\": \"\",\n        \"description\": \"\"\n      }\n    },\n    {\n      \"column\": \"telefono_trab\",\n      \"properties\": {\n        \"dtype\": \"number\",\n        \"std\": 0,\n        \"min\": 0,\n        \"max\": 1,\n        \"num_unique_values\": 2,\n        \"samples\": [\n          0,\n          1\n        ],\n        \"semantic_type\": \"\",\n        \"description\": \"\"\n      }\n    },\n    {\n      \"column\": \"evaluacion_ciudad\",\n      \"properties\": {\n        \"dtype\": \"number\",\n        \"std\": 0.49880682251877845,\n        \"min\": 1.0,\n        \"max\": 3.0,\n        \"num_unique_values\": 4,\n        \"samples\": [\n          3.0,\n          2.030038427084816\n        ],\n        \"semantic_type\": \"\",\n        \"description\": \"\"\n      }\n    },\n    {\n      \"column\": \"score_1\",\n      \"properties\": {\n        \"dtype\": \"number\",\n        \"std\": 0.14238945649917853,\n        \"min\": 0.014568132,\n        \"max\": 0.942680454,\n        \"num_unique_values\": 23062,\n        \"samples\": [\n          0.475611877,\n          0.435226091\n        ],\n        \"semantic_type\": \"\",\n        \"description\": \"\"\n      }\n    },\n    {\n      \"column\": \"score_2\",\n      \"properties\": {\n        \"dtype\": \"number\",\n        \"std\": 0.8759454878096079,\n        \"min\": 5e-06,\n        \"max\": 100.0,\n        \"num_unique_values\": 38047,\n        \"samples\": [\n          0.416306086,\n          0.675062411\n        ],\n        \"semantic_type\": \"\",\n        \"description\": \"\"\n      }\n    },\n    {\n      \"column\": \"score_3\",\n      \"properties\": {\n        \"dtype\": \"number\",\n        \"std\": 0.06272486372343226,\n        \"min\": 0.000527265,\n        \"max\": 0.869210801,\n        \"num_unique_values\": 612,\n        \"samples\": [\n          0.420610964,\n          0.168416171\n        ],\n        \"semantic_type\": \"\",\n        \"description\": \"\"\n      }\n    },\n    {\n      \"column\": \"score_social\",\n      \"properties\": {\n        \"dtype\": \"number\",\n        \"std\": 0.0761796573204536,\n        \"min\": 0.0,\n        \"max\": 1.0,\n        \"num_unique_values\": 1459,\n        \"samples\": [\n          0.1674,\n          0.6381\n        ],\n        \"semantic_type\": \"\",\n        \"description\": \"\"\n      }\n    },\n    {\n      \"column\": \"cambio_telefono\",\n      \"properties\": {\n        \"dtype\": \"number\",\n        \"std\": 818.1417090553241,\n        \"min\": 0.0,\n        \"max\": 4185.0,\n        \"num_unique_values\": 3408,\n        \"samples\": [\n          966.0,\n          3099.0\n        ],\n        \"semantic_type\": \"\",\n        \"description\": \"\"\n      }\n    },\n    {\n      \"column\": \"moroso\",\n      \"properties\": {\n        \"dtype\": \"number\",\n        \"std\": 0,\n        \"min\": 0,\n        \"max\": 1,\n        \"num_unique_values\": 2,\n        \"samples\": [\n          1,\n          0\n        ],\n        \"semantic_type\": \"\",\n        \"description\": \"\"\n      }\n    }\n  ]\n}"
            }
          },
          "metadata": {},
          "execution_count": 105
        }
      ]
    },
    {
      "cell_type": "code",
      "source": [
        "X = datos.drop('moroso', axis=1)\n",
        "y = datos['moroso']"
      ],
      "metadata": {
        "id": "MikoMXI7P4dG"
      },
      "execution_count": 106,
      "outputs": []
    },
    {
      "cell_type": "code",
      "source": [
        "from sklearn.tree import DecisionTreeClassifier\n",
        "\n",
        "modelo = DecisionTreeClassifier()\n",
        "modelo.fit(X, y)\n",
        "modelo.score(X, y)"
      ],
      "metadata": {
        "id": "uWmgaPOAL4JH",
        "outputId": "41eb823a-b984-4c7e-ad8b-364ebafb342d",
        "colab": {
          "base_uri": "https://localhost:8080/"
        }
      },
      "execution_count": 107,
      "outputs": [
        {
          "output_type": "execute_result",
          "data": {
            "text/plain": [
              "1.0"
            ]
          },
          "metadata": {},
          "execution_count": 107
        }
      ]
    },
    {
      "cell_type": "code",
      "source": [
        "print(f'Precisión del modelo es: {modelo.score(X, y)}')"
      ],
      "metadata": {
        "id": "sAkLWF6cMMhZ",
        "outputId": "c7516dbd-64c4-442a-eadf-82dafe6be225",
        "colab": {
          "base_uri": "https://localhost:8080/"
        }
      },
      "execution_count": 108,
      "outputs": [
        {
          "output_type": "stream",
          "name": "stdout",
          "text": [
            "Precisión del modelo es: 1.0\n"
          ]
        }
      ]
    },
    {
      "cell_type": "markdown",
      "source": [
        "### Validando el modelo"
      ],
      "metadata": {
        "id": "EPrFcm39oAof"
      }
    },
    {
      "cell_type": "markdown",
      "source": [
        "Evaluar el modelo con los mismos datos utilizados en el entrenamiento no es recomendable. Es necesario que la evaluación se realice con datos independientes.  \n",
        "\n",
        "Evaluar el modelo con los propios datos de entrenamiento sería equivalente a entregar un examen con las preguntas y las respuestas a una persona y, al momento de evaluarla nuevamente, entregarle un examen con las mismas preguntas y opciones. Se espera que esa persona obtenga un buen resultado, ya que ya ha visto las respuestas y ha memorizado el resultado. Esto es diferente de haber aprendido la materia a partir de ese examen y luego presentar una prueba con contenido similar y obtener un resultado positivo.  \n",
        "\n",
        "Con el objetivo de verificar la capacidad de generalización de un modelo, debemos dividir el conjunto de datos en tres partes: datos de entrenamiento, validación y prueba.  \n",
        "\n",
        "- El **conjunto de entrenamiento** se utiliza para entrenar los modelos. A partir de este conjunto, los modelos identifican patrones en los datos.  \n",
        "\n",
        "- El **conjunto de validación** se emplea para evaluar el desempeño de diferentes modelos con datos nuevos que no fueron utilizados en el entrenamiento.  \n",
        "\n",
        "- El **conjunto de prueba** se mantiene separado desde el inicio para simular datos del mundo real. No se utiliza en ninguna etapa del entrenamiento ni de la validación, sirviendo como una estimación de la capacidad del modelo elegido para generalizar y predecir nuevos datos."
      ],
      "metadata": {
        "id": "v0u-uij9eNcD"
      }
    },
    {
      "cell_type": "markdown",
      "source": [
        "<a href=\"https://ibb.co/9H2Z1HZ5\"><img src=\"https://i.ibb.co/0yZs6ysb/datos-train-test.png\" alt=\"datos-train-test\" border=\"0\"></a>"
      ],
      "metadata": {
        "id": "TCIN5oOJFk_W"
      }
    },
    {
      "cell_type": "code",
      "source": [
        "# separa en base de entranamieno y en base de prueba y luego entrenamiento y validación\n",
        "from sklearn.model_selection import train_test_split"
      ],
      "metadata": {
        "id": "OICJjv9HP1QZ"
      },
      "execution_count": 109,
      "outputs": []
    },
    {
      "cell_type": "code",
      "source": [
        "# test_size=0.15 tomar un 15 para entrenamiento, stratify=y que deje la misma cantidad de obs.en los 2 conjuntos que estoy separando\n",
        "# ej: 10% de morosos en cada conjunto po eso pongo la y que es la variable dependiente\n",
        "X, X_test, y, y_test = train_test_split(X,y, test_size=0.15, stratify=y, random_state=5)\n",
        "X_train, X_val, y_train, y_val = train_test_split(X,y,stratify=y, random_state=5)"
      ],
      "metadata": {
        "id": "mvDcVFFDP1sB"
      },
      "execution_count": 110,
      "outputs": []
    },
    {
      "cell_type": "code",
      "source": [
        "modelo = DecisionTreeClassifier()\n",
        "modelo.fit(X_train, y_train)\n",
        "\n",
        "print(f'Precisión del modelo con el conjunto de entrenamiento es: {modelo.score(X_train, y_train)}')\n",
        "print(f'Precisión del modelo con el conjunto de validación es: {modelo.score(X_val, y_val)}')"
      ],
      "metadata": {
        "id": "sEJPwwG_P1Md",
        "colab": {
          "base_uri": "https://localhost:8080/"
        },
        "outputId": "d3abd59e-7915-4b3d-a896-a64c1e8bf913"
      },
      "execution_count": 111,
      "outputs": [
        {
          "output_type": "stream",
          "name": "stdout",
          "text": [
            "Precisión del modelo con el conjunto de entrenamiento es: 1.0\n",
            "Precisión del modelo con el conjunto de validación es: 0.8474871526870482\n"
          ]
        }
      ]
    },
    {
      "cell_type": "code",
      "source": [
        "modelo = DecisionTreeClassifier(max_depth=10)\n",
        "modelo.fit(X_train, y_train)\n",
        "\n",
        "print(f'Precisión del modelo con el conjunto de entrenamiento es: {modelo.score(X_train, y_train)}')\n",
        "print(f'Precisión del modelo con el conjunto de validación es: {modelo.score(X_val, y_val)}')"
      ],
      "metadata": {
        "id": "4Lhws7sCWK2d",
        "outputId": "7e240b7b-ce86-4fc5-c7ce-d59b39184fb8",
        "colab": {
          "base_uri": "https://localhost:8080/"
        }
      },
      "execution_count": 112,
      "outputs": [
        {
          "output_type": "stream",
          "name": "stdout",
          "text": [
            "Precisión del modelo con el conjunto de entrenamiento es: 0.9206445993031359\n",
            "Precisión del modelo con el conjunto de validación es: 0.9057573382109573\n"
          ]
        }
      ]
    },
    {
      "cell_type": "markdown",
      "source": [
        "### Evaluando el modelo"
      ],
      "metadata": {
        "id": "WtlRAZt96VLG"
      }
    },
    {
      "cell_type": "code",
      "source": [
        "from sklearn.metrics import confusion_matrix"
      ],
      "metadata": {
        "id": "IlUZBhPrPyYh"
      },
      "execution_count": 113,
      "outputs": []
    },
    {
      "cell_type": "code",
      "source": [
        "y_previsto = modelo.predict(X_val)\n",
        "matriz_confusion = confusion_matrix(y_val, y_previsto)\n",
        "print(matriz_confusion)"
      ],
      "metadata": {
        "id": "iill3u5HPyOA",
        "colab": {
          "base_uri": "https://localhost:8080/"
        },
        "outputId": "fd159b56-eeb5-471d-de0f-d9547c2caad1"
      },
      "execution_count": 114,
      "outputs": [
        {
          "output_type": "stream",
          "name": "stdout",
          "text": [
            "[[10358   121]\n",
            " [  961    41]]\n"
          ]
        }
      ]
    },
    {
      "cell_type": "code",
      "source": [
        "from sklearn.metrics import ConfusionMatrixDisplay"
      ],
      "metadata": {
        "id": "gtFWt6emPyJt"
      },
      "execution_count": 115,
      "outputs": []
    },
    {
      "cell_type": "code",
      "source": [
        "visualizacion = ConfusionMatrixDisplay(matriz_confusion)\n",
        "visualizacion.plot();"
      ],
      "metadata": {
        "id": "qg0OgZeqPyGJ",
        "colab": {
          "base_uri": "https://localhost:8080/",
          "height": 449
        },
        "outputId": "f83e3667-f6bf-4282-8247-0a7a971a0c14"
      },
      "execution_count": 116,
      "outputs": [
        {
          "output_type": "display_data",
          "data": {
            "text/plain": [
              "<Figure size 640x480 with 2 Axes>"
            ],
            "image/png": "[encoded data removed]"
          },
          "metadata": {}
        }
      ]
    },
    {
      "cell_type": "code",
      "source": [
        "visualizacion = ConfusionMatrixDisplay(confusion_matrix = matriz_confusion, display_labels=['Cumple', 'Moroso'])\n",
        "visualizacion.plot();\n",
        "\n",
        "#predicción"
      ],
      "metadata": {
        "id": "haqPCCweYRZ9",
        "outputId": "9c1c4b8e-89b9-49a7-d652-f3443a8e0afc",
        "colab": {
          "base_uri": "https://localhost:8080/",
          "height": 449
        }
      },
      "execution_count": 117,
      "outputs": [
        {
          "output_type": "display_data",
          "data": {
            "text/plain": [
              "<Figure size 640x480 with 2 Axes>"
            ],
            "image/png": "[encoded data removed]"
          },
          "metadata": {}
        }
      ]
    },
    {
      "cell_type": "markdown",
      "source": [
        "**la matriz de confusión**\n",
        "\n",
        "Para obtener una evaluación más completa del desempeño de modelos de clasificación, podemos utilizar una herramienta conocida como matriz de confusión. Esta matriz ofrece ventajas a la persona científica de datos, ya que permite entender cuántos errores y aciertos tiene las predicciones de un modelo. En lugar de una tasa de acierto general, la matriz es capaz de proporcionar información en una visualización para cada una de las categorías de la variable objetivo.\n",
        "\n",
        "Piensa en un sistema de seguridad de un edificio que utiliza cámaras para identificar personas que entran. La \"matriz de confusión\" se vuelve valiosa, ya que permite verificar cuántas veces el sistema acertó al identificar correctamente a las personas autorizadas, cuántas veces acusó erróneamente a personas y cuántas veces dejó pasar a personas no autorizadas. Con estos números, es posible ajustar el sistema para minimizar falsos positivos y negativos, mejorando su precisión en la detección de visitantes.\n",
        "\n",
        "En la representación general de una matriz de confusión, para más detalles analiza la imagen a continuación, las filas de la matriz corresponden a los valores reales de la base de datos, mientras que las columnas corresponden a los valores previstos por el modelo de clasificación. Las categorías de la variable objetivo están representadas por el valor 0 (ausencia del atributo), también llamado negativo, y por el valor 1 (presencia del atributo), también llamado positivo."
      ],
      "metadata": {
        "id": "ZmOkB8e4ZSkG"
      }
    },
    {
      "cell_type": "markdown",
      "source": [
        "![image.png](data:image/png;base64,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)"
      ],
      "metadata": {
        "id": "iTdHdos4ZnZm"
      }
    },
    {
      "cell_type": "markdown",
      "source": [
        "Cada elemento de la matriz está identificado por un nombre de acuerdo con la intersección entre la predicción y el valor real. La diagonal principal de la matriz, que está destacada por el color verde, representa los elementos que tienen la predicción igual al valor real, por lo tanto son los aciertos del modelo. Por otro lado, la diagonal secundaria, que está destacada por el color rojo, representa los elementos con predicciones diferentes del valor real, por lo tanto son los errores del modelo. La descripción de cada uno de los elementos es la siguiente:\n",
        "\n",
        "- Verdaderos Negativos (VN): Cuando el valor real es 0 y la predicción también es 0. Indica que el modelo clasificó correctamente los valores de la clase negativa.\n",
        "- Falsos Positivos (FP): Cuando el valor real es 0 y la predicción es 1. Indica que el modelo clasificó erróneamente un elemento de la clase negativa como si fuera de la clase positiva.\n",
        "- Falsos Negativos (FN): Cuando el valor real es 1 y la predicción es 0. Indica que el modelo clasificó erróneamente un elemento de la clase positiva como si fuera de la clase negativa.\n",
        "- Verdaderos Positivos (VP): Cuando el valor real es 1 y la predicción también es 1. Indica que el modelo clasificó correctamente los valores de la clase positiva.\n",
        "\n",
        "Estos valores son muy útiles para un análisis más profundo del modelo de clasificación. Esto permite identificar las capacidades y limitaciones de la predicción, si hay un equilibrio entre los aciertos y errores o si el resultado está sesgado hacia una clase en detrimento de la otra. Con esto, es evidente que la matriz de confusión es una herramienta mucho más completa que la métrica de precisión, que representa solo el porcentaje de aciertos del modelo, sin considerar las clases de manera aislada."
      ],
      "metadata": {
        "id": "6AOvJ32PZ1qt"
      }
    },
    {
      "cell_type": "markdown",
      "source": [
        "Utilizamos durante la clase el algoritmo de árbol de decisión, pero la biblioteca Scikit-Learn tiene varios otros métodos de clasificación que pueden ser utilizados en nuestro proyecto. Como desafío, utiliza el algoritmo Random Forest para crear un modelo y evaluar el desempeño con la precisión y la matriz de confusión, y compara los resultados con el resultado del árbol de decisión."
      ],
      "metadata": {
        "id": "4QR5I-rJamad"
      }
    },
    {
      "cell_type": "code",
      "source": [
        "from sklearn.ensemble import RandomForestClassifier"
      ],
      "metadata": {
        "id": "34CExizHapCB"
      },
      "execution_count": 118,
      "outputs": []
    },
    {
      "cell_type": "markdown",
      "source": [
        "Ahora que hemos importado el algoritmo, solo necesitamos instanciar el RandomForestClassifier en una variable y utilizar el parámetro max_depth = 10 así como hicimos con el árbol de decisión. Esto evitará que el modelo se ajuste demasiado a los datos de entrenamiento. Después de eso, podemos ajustar el modelo con datos de entrenamiento y verificar el resultado de la precisión:"
      ],
      "metadata": {
        "id": "NKn4aYksaykp"
      }
    },
    {
      "cell_type": "code",
      "source": [
        "modelo = RandomForestClassifier(max_depth = 10)\n",
        "modelo.fit(X_train, y_train)\n",
        "\n",
        "print(f'Precisión de entrenamiento: {modelo.score(X_train, y_train)}')\n",
        "print(f'Precisión de validación: {modelo.score(X_val, y_val)}')"
      ],
      "metadata": {
        "id": "fAGfJMlXa3QH",
        "outputId": "ad9ef352-1546-4f23-bb82-06f339cd2bbe",
        "colab": {
          "base_uri": "https://localhost:8080/"
        }
      },
      "execution_count": 121,
      "outputs": [
        {
          "output_type": "stream",
          "name": "stdout",
          "text": [
            "Precisión de entrenamiento: 0.9154881464781034\n",
            "Precisión de validación: 0.9127895060463209\n"
          ]
        }
      ]
    },
    {
      "cell_type": "markdown",
      "source": [
        "Este resultado muestra que el RandomForest tuvo una precisión mejor que el árbol de decisión, indicando que el modelo tiene una tasa de aciertos general mejor.\n",
        "\n",
        "Para completar, podemos generar una matriz de confusión a partir del modelo y verificar la cantidad de aciertos y errores para cada clase. Podemos crear la matriz con el siguiente código:"
      ],
      "metadata": {
        "id": "ObHy7eRFcZi3"
      }
    },
    {
      "cell_type": "code",
      "source": [
        "y_previsto = modelo.predict(X_val)\n",
        "matriz_confusion = confusion_matrix(y_val, y_previsto)\n",
        "visualizacion = ConfusionMatrixDisplay(confusion_matrix= matriz_confusion,\n",
        "                                      display_labels = ['Cumplido', 'Moroso'])\n",
        "visualizacion.plot();"
      ],
      "metadata": {
        "id": "T9mpZDL-a3co",
        "outputId": "3e78f121-2724-413e-b63e-25cb3bddd58b",
        "colab": {
          "base_uri": "https://localhost:8080/",
          "height": 449
        }
      },
      "execution_count": 123,
      "outputs": [
        {
          "output_type": "display_data",
          "data": {
            "text/plain": [
              "<Figure size 640x480 with 2 Axes>"
            ],
            "image/png": "[encoded data removed]"
          },
          "metadata": {}
        }
      ]
    },
    {
      "cell_type": "markdown",
      "source": [
        "## <font color='dark'>Métricas de evaluación</h1>"
      ],
      "metadata": {
        "id": "tPogL-24ntSH"
      }
    },
    {
      "cell_type": "markdown",
      "source": [
        "### Exactitud, precisión y recall (sensibilidad)."
      ],
      "metadata": {
        "id": "nP1WfyyR6XMl"
      }
    },
    {
      "cell_type": "markdown",
      "source": [
        "<a href=\"https://ibb.co/351SbY7t\"><img src=\"https://i.ibb.co/wZypqrRD/matriz-confusion.png\" alt=\"matriz-confusion\" border=\"0\"></a>"
      ],
      "metadata": {
        "id": "oE8N0NqoH6hy"
      }
    },
    {
      "cell_type": "markdown",
      "source": [
        "<a href=\"https://imgbb.com/\"><img src=\"https://i.ibb.co/6Jp6rKyC/Captura-de-tela-2025-03-22-120744.png\" alt=\"Captura-de-tela-2025-03-22-120744\" border=\"0\"></a>"
      ],
      "metadata": {
        "id": "k0ldCSgoZiPX"
      }
    },
    {
      "cell_type": "code",
      "source": [],
      "metadata": {
        "id": "IIEaf2fmPmq1"
      },
      "execution_count": null,
      "outputs": []
    },
    {
      "cell_type": "code",
      "source": [],
      "metadata": {
        "id": "QnGxEIrWPmbx"
      },
      "execution_count": null,
      "outputs": []
    },
    {
      "cell_type": "code",
      "source": [],
      "metadata": {
        "id": "7C7NoVZnPmX1"
      },
      "execution_count": null,
      "outputs": []
    },
    {
      "cell_type": "code",
      "source": [],
      "metadata": {
        "id": "u2SqICFJPmU-"
      },
      "execution_count": null,
      "outputs": []
    },
    {
      "cell_type": "markdown",
      "source": [
        "### Curva ROC"
      ],
      "metadata": {
        "id": "I8ELhexg2jNx"
      }
    },
    {
      "cell_type": "code",
      "source": [
        "from IPython.display import Image\n",
        "Image(url='https://raw.githubusercontent.com/dariyasydykova/open_projects/master/ROC_animation/animations/cutoff.gif')"
      ],
      "metadata": {
        "id": "PhUNE4Xm4MII"
      },
      "execution_count": null,
      "outputs": []
    },
    {
      "cell_type": "markdown",
      "source": [
        "Fuente: [paulvanderlaken.com](https://paulvanderlaken.com/2019/08/16/roc-auc-precision-and-recall-visually-explained/)\n",
        "\n",
        "\n"
      ],
      "metadata": {
        "id": "XK8_7Ruy32BT"
      }
    },
    {
      "cell_type": "code",
      "source": [],
      "metadata": {
        "id": "FHc-8FjePhM6"
      },
      "execution_count": null,
      "outputs": []
    },
    {
      "cell_type": "code",
      "source": [],
      "metadata": {
        "id": "V6Ua2rY3PhFt"
      },
      "execution_count": null,
      "outputs": []
    },
    {
      "cell_type": "code",
      "source": [],
      "metadata": {
        "id": "LJE-yyWMPg8R"
      },
      "execution_count": null,
      "outputs": []
    },
    {
      "cell_type": "code",
      "source": [],
      "metadata": {
        "id": "7mtvjPHsPi1o"
      },
      "execution_count": null,
      "outputs": []
    },
    {
      "cell_type": "markdown",
      "source": [
        "### Curva de  precisión x sensibilidad"
      ],
      "metadata": {
        "id": "IztSEZfh7QFe"
      }
    },
    {
      "cell_type": "code",
      "source": [
        "Image(url='https://paulvanderlaken.com/wp-content/uploads/2019/08/roc.gif')"
      ],
      "metadata": {
        "id": "EJzfjuxa3fxD"
      },
      "execution_count": null,
      "outputs": []
    },
    {
      "cell_type": "markdown",
      "source": [
        "Fuente: [paulvanderlaken.com](https://paulvanderlaken.com/2019/08/16/roc-auc-precision-and-recall-visually-explained/)\n"
      ],
      "metadata": {
        "id": "bUoGCSUB4msC"
      }
    },
    {
      "cell_type": "code",
      "source": [],
      "metadata": {
        "id": "7t20ira6Pcds"
      },
      "execution_count": null,
      "outputs": []
    },
    {
      "cell_type": "code",
      "source": [],
      "metadata": {
        "id": "Drs3Z6RTPcTc"
      },
      "execution_count": null,
      "outputs": []
    },
    {
      "cell_type": "code",
      "source": [],
      "metadata": {
        "id": "DmhO5H5cPcOp"
      },
      "execution_count": null,
      "outputs": []
    },
    {
      "cell_type": "code",
      "source": [],
      "metadata": {
        "id": "SS08sHDkPeaG"
      },
      "execution_count": null,
      "outputs": []
    },
    {
      "cell_type": "markdown",
      "source": [
        "### Informe de métricas"
      ],
      "metadata": {
        "id": "Bm2E6GEJDJLH"
      }
    },
    {
      "cell_type": "code",
      "source": [],
      "metadata": {
        "id": "C85qunYhPZTJ"
      },
      "execution_count": null,
      "outputs": []
    },
    {
      "cell_type": "code",
      "source": [],
      "metadata": {
        "id": "pnN6QRlYPZQR"
      },
      "execution_count": null,
      "outputs": []
    },
    {
      "cell_type": "markdown",
      "source": [
        "## <font color='dark'> Validación cruzada</h1>"
      ],
      "metadata": {
        "id": "SuxCy_oZZQxE"
      }
    },
    {
      "cell_type": "markdown",
      "source": [
        "### Usando KFold"
      ],
      "metadata": {
        "id": "17q2T0iRnzSg"
      }
    },
    {
      "cell_type": "markdown",
      "source": [
        "La validación del modelo de clasificación a partir de la separación de los datos en conjuntos de entrenamiento y validación hace que el resultado dependa en gran medida de esta división. Puede suceder que, de forma aleatoria, el patrón de los datos de validación sea diferente al de los datos de entrenamiento, lo que podría llevar a obtener un resultado mucho mejor o mucho peor que la realidad simplemente por suerte o mala suerte.  \n",
        "\n",
        "Teniendo esto en cuenta, es posible utilizar la **validación cruzada**, una estrategia más consistente y ampliamente utilizada en proyectos de *machine learning*.  \n",
        "\n",
        "En la validación cruzada, en lugar de separar los datos en entrenamiento y validación una sola vez, se dividen en varias partes de igual tamaño. En cada una de estas divisiones, se usa una parte para validación y todas las demás para entrenamiento. Este proceso se repite hasta que todas las partes hayan sido utilizadas tanto para validación como para entrenamiento.  \n",
        "\n",
        "Se generará un modelo para cada una de estas divisiones y la evaluación del desempeño se realizará promediando la métrica de cada modelo. Esto elimina la dependencia de la separación de los datos, ya que hay una mayor variación en la selección de los mismos y se obtiene un valor medio.  \n",
        "\n",
        "Generalmente, se utilizan 5 o 10 partes. Un número mayor no suele ser necesario, ya que implica un procesamiento más costoso, y valores menores ya ayudan a mitigar el problema de la selección de los datos."
      ],
      "metadata": {
        "id": "zjfYnDWJ6C2A"
      }
    },
    {
      "cell_type": "markdown",
      "source": [
        "<a href=\"https://ibb.co/KcBtshJR\"><img src=\"https://i.ibb.co/nq4X1mFZ/train-y-validacion.png\" alt=\"train-y-validacion\" border=\"0\"></a>"
      ],
      "metadata": {
        "id": "oSboV-QNMG__"
      }
    },
    {
      "cell_type": "code",
      "source": [],
      "metadata": {
        "id": "TU8HYdzmPI7P"
      },
      "execution_count": null,
      "outputs": []
    },
    {
      "cell_type": "code",
      "source": [],
      "metadata": {
        "id": "McSadnzDPI4G"
      },
      "execution_count": null,
      "outputs": []
    },
    {
      "cell_type": "code",
      "source": [],
      "metadata": {
        "id": "o5oZ8-lhPIy_"
      },
      "execution_count": null,
      "outputs": []
    },
    {
      "cell_type": "markdown",
      "source": [
        "### Validación cruzada con sensibilidad"
      ],
      "metadata": {
        "id": "GAHrtLM2OCjO"
      }
    },
    {
      "cell_type": "code",
      "source": [],
      "metadata": {
        "id": "Ywfsoe3_PLYZ"
      },
      "execution_count": null,
      "outputs": []
    },
    {
      "cell_type": "code",
      "source": [],
      "metadata": {
        "id": "PV3m-6IxPLMf"
      },
      "execution_count": null,
      "outputs": []
    },
    {
      "cell_type": "code",
      "source": [],
      "metadata": {
        "id": "Y-gpgU7pPLJv"
      },
      "execution_count": null,
      "outputs": []
    },
    {
      "cell_type": "markdown",
      "source": [
        "### Estratificando los datos"
      ],
      "metadata": {
        "id": "-FAOYtNen4qJ"
      }
    },
    {
      "cell_type": "code",
      "source": [],
      "metadata": {
        "id": "G6bPA6vaPN1A"
      },
      "execution_count": null,
      "outputs": []
    },
    {
      "cell_type": "code",
      "source": [],
      "metadata": {
        "id": "HONIpY1BPNzd"
      },
      "execution_count": null,
      "outputs": []
    },
    {
      "cell_type": "code",
      "source": [],
      "metadata": {
        "id": "jCFRBhd_PNxT"
      },
      "execution_count": null,
      "outputs": []
    },
    {
      "cell_type": "markdown",
      "source": [
        "## <font color='dark'>Balanceo de los datos</h1>"
      ],
      "metadata": {
        "id": "yaVwNb1kn8sX"
      }
    },
    {
      "cell_type": "markdown",
      "source": [
        "### Oversampling"
      ],
      "metadata": {
        "id": "4eYKxWJd6g6w"
      }
    },
    {
      "cell_type": "markdown",
      "source": [
        "https://imbalanced-learn.org/stable/references/generated/imblearn.over_sampling.SMOTE.html#id1"
      ],
      "metadata": {
        "id": "N0MJ7hGUmL4l"
      }
    },
    {
      "cell_type": "code",
      "source": [],
      "metadata": {
        "id": "cO0Dx5xAO4B5"
      },
      "execution_count": null,
      "outputs": []
    },
    {
      "cell_type": "code",
      "source": [],
      "metadata": {
        "id": "h6DQqcttO3_c"
      },
      "execution_count": null,
      "outputs": []
    },
    {
      "cell_type": "code",
      "source": [],
      "metadata": {
        "id": "7Lp4GoMRO355"
      },
      "execution_count": null,
      "outputs": []
    },
    {
      "cell_type": "markdown",
      "source": [
        "### Pipeline para validación"
      ],
      "metadata": {
        "id": "fHSNXznm6ia-"
      }
    },
    {
      "cell_type": "code",
      "source": [],
      "metadata": {
        "id": "DaoAbR84O44S"
      },
      "execution_count": null,
      "outputs": []
    },
    {
      "cell_type": "code",
      "source": [],
      "metadata": {
        "id": "7UezUduWO41c"
      },
      "execution_count": null,
      "outputs": []
    },
    {
      "cell_type": "code",
      "source": [],
      "metadata": {
        "id": "b7Z-pe6wO4yN"
      },
      "execution_count": null,
      "outputs": []
    },
    {
      "cell_type": "markdown",
      "source": [
        "### Undersampling"
      ],
      "metadata": {
        "id": "66PlvwjX6kFv"
      }
    },
    {
      "cell_type": "markdown",
      "source": [
        "https://imbalanced-learn.org/stable/references/generated/imblearn.under_sampling.NearMiss.html"
      ],
      "metadata": {
        "id": "Fh6VZN5Fx7wl"
      }
    },
    {
      "cell_type": "code",
      "source": [],
      "metadata": {
        "id": "lUn59uqAO63N"
      },
      "execution_count": null,
      "outputs": []
    },
    {
      "cell_type": "code",
      "source": [],
      "metadata": {
        "id": "pOUKHwqRO6zb"
      },
      "execution_count": null,
      "outputs": []
    },
    {
      "cell_type": "code",
      "source": [],
      "metadata": {
        "id": "ykn9H4kFO6so"
      },
      "execution_count": null,
      "outputs": []
    },
    {
      "cell_type": "markdown",
      "source": [
        "### Probando el modelo"
      ],
      "metadata": {
        "id": "EP-44U0eHt-a"
      }
    },
    {
      "cell_type": "code",
      "source": [],
      "metadata": {
        "id": "XWhZlwOTO8eN"
      },
      "execution_count": null,
      "outputs": []
    },
    {
      "cell_type": "code",
      "source": [],
      "metadata": {
        "id": "gZHVqM6hO8bt"
      },
      "execution_count": null,
      "outputs": []
    },
    {
      "cell_type": "code",
      "source": [],
      "metadata": {
        "id": "QSrpOQpxO8WT"
      },
      "execution_count": null,
      "outputs": []
    }
  ]
}